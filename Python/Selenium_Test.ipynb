{
 "cells": [
  {
   "cell_type": "markdown",
   "id": "95b0442f-276f-4688-b170-accaef70b4fb",
   "metadata": {},
   "source": [
    "## Selenium을 이용한 웹 스크래핑"
   ]
  },
  {
   "cell_type": "code",
   "execution_count": 1,
   "id": "f5a008fd-ed1f-4c7a-b5e3-1a30101406ad",
   "metadata": {},
   "outputs": [
    {
     "name": "stdout",
     "output_type": "stream",
     "text": [
      "Python 3.12.4\n"
     ]
    }
   ],
   "source": [
    "!python --version"
   ]
  },
  {
   "cell_type": "code",
   "execution_count": 3,
   "id": "83189276-274c-4eed-a63c-844e8bff9264",
   "metadata": {},
   "outputs": [
    {
     "name": "stdout",
     "output_type": "stream",
     "text": [
      "Hello Python\n"
     ]
    }
   ],
   "source": [
    "print('Hello Python')"
   ]
  },
  {
   "cell_type": "code",
   "execution_count": 5,
   "id": "1330b4a8-6925-488d-9046-0521802a5302",
   "metadata": {},
   "outputs": [
    {
     "name": "stdout",
     "output_type": "stream",
     "text": [
      "Requirement already satisfied: selenium in c:\\users\\sku202-0\\anaconda3\\lib\\site-packages (4.25.0)\n",
      "Requirement already satisfied: urllib3<3,>=1.26 in c:\\users\\sku202-0\\anaconda3\\lib\\site-packages (from urllib3[socks]<3,>=1.26->selenium) (2.2.2)\n",
      "Requirement already satisfied: trio~=0.17 in c:\\users\\sku202-0\\anaconda3\\lib\\site-packages (from selenium) (0.26.2)\n",
      "Requirement already satisfied: trio-websocket~=0.9 in c:\\users\\sku202-0\\anaconda3\\lib\\site-packages (from selenium) (0.11.1)\n",
      "Requirement already satisfied: certifi>=2021.10.8 in c:\\users\\sku202-0\\anaconda3\\lib\\site-packages (from selenium) (2024.8.30)\n",
      "Requirement already satisfied: typing_extensions~=4.9 in c:\\users\\sku202-0\\anaconda3\\lib\\site-packages (from selenium) (4.11.0)\n",
      "Requirement already satisfied: websocket-client~=1.8 in c:\\users\\sku202-0\\anaconda3\\lib\\site-packages (from selenium) (1.8.0)\n",
      "Requirement already satisfied: attrs>=23.2.0 in c:\\users\\sku202-0\\anaconda3\\lib\\site-packages (from trio~=0.17->selenium) (24.2.0)\n",
      "Requirement already satisfied: sortedcontainers in c:\\users\\sku202-0\\anaconda3\\lib\\site-packages (from trio~=0.17->selenium) (2.4.0)\n",
      "Requirement already satisfied: idna in c:\\users\\sku202-0\\anaconda3\\lib\\site-packages (from trio~=0.17->selenium) (3.7)\n",
      "Requirement already satisfied: outcome in c:\\users\\sku202-0\\anaconda3\\lib\\site-packages (from trio~=0.17->selenium) (1.3.0.post0)\n",
      "Requirement already satisfied: sniffio>=1.3.0 in c:\\users\\sku202-0\\anaconda3\\lib\\site-packages (from trio~=0.17->selenium) (1.3.0)\n",
      "Requirement already satisfied: cffi>=1.14 in c:\\users\\sku202-0\\anaconda3\\lib\\site-packages (from trio~=0.17->selenium) (1.16.0)\n",
      "Requirement already satisfied: wsproto>=0.14 in c:\\users\\sku202-0\\anaconda3\\lib\\site-packages (from trio-websocket~=0.9->selenium) (1.2.0)\n",
      "Requirement already satisfied: pysocks!=1.5.7,<2.0,>=1.5.6 in c:\\users\\sku202-0\\anaconda3\\lib\\site-packages (from urllib3[socks]<3,>=1.26->selenium) (1.7.1)\n",
      "Requirement already satisfied: pycparser in c:\\users\\sku202-0\\anaconda3\\lib\\site-packages (from cffi>=1.14->trio~=0.17->selenium) (2.21)\n",
      "Requirement already satisfied: h11<1,>=0.9.0 in c:\\users\\sku202-0\\anaconda3\\lib\\site-packages (from wsproto>=0.14->trio-websocket~=0.9->selenium) (0.14.0)\n"
     ]
    }
   ],
   "source": [
    "!pip install selenium"
   ]
  },
  {
   "cell_type": "code",
   "execution_count": 7,
   "id": "ff80ee1d-939f-4953-8aab-761a7dee0087",
   "metadata": {},
   "outputs": [
    {
     "name": "stdout",
     "output_type": "stream",
     "text": [
      "Requirement already satisfied: webdriver-manager in c:\\users\\sku202-0\\anaconda3\\lib\\site-packages (4.0.2)\n",
      "Requirement already satisfied: requests in c:\\users\\sku202-0\\anaconda3\\lib\\site-packages (from webdriver-manager) (2.32.2)\n",
      "Requirement already satisfied: python-dotenv in c:\\users\\sku202-0\\anaconda3\\lib\\site-packages (from webdriver-manager) (0.21.0)\n",
      "Requirement already satisfied: packaging in c:\\users\\sku202-0\\anaconda3\\lib\\site-packages (from webdriver-manager) (23.2)\n",
      "Requirement already satisfied: charset-normalizer<4,>=2 in c:\\users\\sku202-0\\anaconda3\\lib\\site-packages (from requests->webdriver-manager) (2.0.4)\n",
      "Requirement already satisfied: idna<4,>=2.5 in c:\\users\\sku202-0\\anaconda3\\lib\\site-packages (from requests->webdriver-manager) (3.7)\n",
      "Requirement already satisfied: urllib3<3,>=1.21.1 in c:\\users\\sku202-0\\anaconda3\\lib\\site-packages (from requests->webdriver-manager) (2.2.2)\n",
      "Requirement already satisfied: certifi>=2017.4.17 in c:\\users\\sku202-0\\anaconda3\\lib\\site-packages (from requests->webdriver-manager) (2024.8.30)\n"
     ]
    }
   ],
   "source": [
    "!pip install webdriver-manager"
   ]
  },
  {
   "cell_type": "code",
   "execution_count": 17,
   "id": "7dd5f0f3-5fec-4dbc-bdf9-a52d47c632e2",
   "metadata": {},
   "outputs": [],
   "source": [
    "from selenium import webdriver\n",
    "from selenium.webdriver.chrome.service import Service\n",
    "from webdriver_manager.chrome import ChromeDriverManager\n",
    "\n",
    "service = Service(ChromeDriverManager().install())\n",
    "driver = webdriver.Chrome(service=service)"
   ]
  },
  {
   "cell_type": "code",
   "execution_count": 19,
   "id": "af6560b8-1eb4-47f3-a503-636419467538",
   "metadata": {},
   "outputs": [
    {
     "name": "stdout",
     "output_type": "stream",
     "text": [
      "<class 'selenium.webdriver.chrome.webdriver.WebDriver'>\n"
     ]
    }
   ],
   "source": [
    "print(type(driver))"
   ]
  },
  {
   "cell_type": "code",
   "execution_count": 21,
   "id": "f391cad2-25f4-46f5-8c02-a5baa0216772",
   "metadata": {},
   "outputs": [],
   "source": [
    "driver.get('http://google.com')"
   ]
  },
  {
   "cell_type": "code",
   "execution_count": 25,
   "id": "5580312e-8e7e-4cea-a39a-b5b829af6dff",
   "metadata": {},
   "outputs": [
    {
     "name": "stdout",
     "output_type": "stream",
     "text": [
      "찾아온 태그 객체 :  <class 'selenium.webdriver.remote.webelement.WebElement'>\n"
     ]
    }
   ],
   "source": [
    "from selenium.webdriver.common.by import By\n",
    "\n",
    "target=driver.find_element(By.CSS_SELECTOR, \"[name='q']\")\n",
    "print(\"찾아온 태그 객체 : \", type(target))\n",
    "target.send_keys('파이썬')"
   ]
  },
  {
   "cell_type": "code",
   "execution_count": 27,
   "id": "cd4c2713-8ce8-4874-8680-ce4bf919b548",
   "metadata": {},
   "outputs": [],
   "source": [
    "driver.quit()"
   ]
  },
  {
   "cell_type": "code",
   "execution_count": 29,
   "id": "596bea8c-7f4c-4f61-9e8d-4ce621f27741",
   "metadata": {},
   "outputs": [],
   "source": [
    "def getChrome():\n",
    "    service = Service(ChromeDriverManager().install())\n",
    "    driver = webdriver.Chrome(service=service)\n",
    "    return driver"
   ]
  },
  {
   "cell_type": "code",
   "execution_count": 33,
   "id": "7e91dc1d-d57f-4411-b3a7-ec405212defc",
   "metadata": {},
   "outputs": [],
   "source": [
    "driver = getChrome()"
   ]
  },
  {
   "cell_type": "code",
   "execution_count": 41,
   "id": "fb9e909b-cca8-4bdd-8fd0-3db4af9106cd",
   "metadata": {},
   "outputs": [
    {
     "name": "stdout",
     "output_type": "stream",
     "text": [
      "<class 'selenium.webdriver.remote.webelement.WebElement'>\n",
      "<class 'str'>\n",
      "NAVER\n"
     ]
    }
   ],
   "source": [
    "driver.get(\"https://www.naver.com/\")\n",
    "driver.implicitly_wait(3)\n",
    "target=driver.find_element(By.CLASS_NAME, \"blind\")\n",
    "\n",
    "print(type(target))\n",
    "print(type(target.text))\n",
    "print(target.text)"
   ]
  },
  {
   "cell_type": "code",
   "execution_count": null,
   "id": "4eab095b-bf61-4a96-871d-7d0ee8ebb423",
   "metadata": {},
   "outputs": [],
   "source": [
    "driver.getChrome()"
   ]
  },
  {
   "cell_type": "code",
   "execution_count": 61,
   "id": "ddcf3d25-124f-4a35-8175-50797479750d",
   "metadata": {},
   "outputs": [],
   "source": [
    "driver.get(\"https://www.naver.com/\")"
   ]
  },
  {
   "cell_type": "code",
   "execution_count": 63,
   "id": "36a102c4-d98b-49e7-8232-4adbab079bc6",
   "metadata": {},
   "outputs": [
    {
     "name": "stdout",
     "output_type": "stream",
     "text": [
      "<class 'selenium.webdriver.remote.webelement.WebElement'>\n",
      "h1 : NAVER\n",
      "-----------------------------\n",
      "<class 'list'>\n"
     ]
    }
   ],
   "source": [
    "byTagName = driver.find_element(By.TAG_NAME,'h1')\n",
    "print(type(byTagName))\n",
    "print(byTagName.tag_name, \":\", byTagName.text)\n",
    "\n",
    "print('-----------------------------')\n",
    "byTagNames = driver.find_elements(By.TAG_NAME, 'div')\n",
    "print(type(byTagNames))"
   ]
  },
  {
   "cell_type": "code",
   "execution_count": 65,
   "id": "ea02c246-8ebf-4a51-89c4-3278b9519229",
   "metadata": {},
   "outputs": [
    {
     "name": "stdout",
     "output_type": "stream",
     "text": [
      "div : \n",
      "div : NAVER\n",
      "검색\n",
      "검색\n",
      "자동완성/최근검색어펼치기\n",
      "\n",
      "\n",
      "메일\n",
      "카페\n",
      "블로그\n",
      "쇼핑\n",
      "뉴스\n",
      "증권\n",
      "부동산\n",
      "지도\n",
      "웹툰\n",
      "치지직\n",
      "추천\n",
      "바로가기 펼침\n",
      "확장 영역\n",
      "페이 바로가기\n",
      "톡\n",
      "알림\n",
      "장바구니\n",
      "알림\n",
      "뉴스스탠드언론사편집\n",
      "엔터\n",
      "스포츠LIVE\n",
      "경제\n",
      "쇼핑투데이\n",
      "전체언론사\n",
      "연합뉴스\n",
      "與, '김여사 특검법' 부결 당론 확정…\"野 목적은 정권 퇴진\"\n",
      "뉴스스탠드뉴스홈\n",
      "리스트형\n",
      "썸네일형\n",
      "이전 페이지\n",
      "언론사 더보기1\n",
      "페이지\n",
      "전체\n",
      "/4\n",
      "다음 페이지\n",
      "추천・구독\n",
      "자동차\n",
      "웹툰\n",
      "패션뷰티\n",
      "푸드\n",
      "리빙\n",
      "책방\n",
      "지식+\n",
      "건강\n",
      "게임\n",
      "인기\n",
      "동물\n",
      "여행\n",
      "연애결혼\n",
      "영화\n",
      "육아\n",
      "구독홈\n",
      "기부\n",
      "레바논 폭격 피해, 아이들을 도와주세요\n",
      "유니세프\n",
      "펀딩\n",
      "국내산 원물 100%! 블렌딩 티로 즐기는 호박차\n",
      "나이스투잇츄\n",
      "나는솔로 20기 정숙 영호와 결별 이유 발목 잡은 시무 35조\n",
      "청우\n",
      "보기 흉하게 울퉁불퉁 튀어나온 손등 핏줄, 이유가 뭘까?\n",
      "아빠약사\n",
      "찐부자라는 나는 솔로 22기 현숙 명품으로 도배한 패션 (루이비통 가방, 까르띠에 시계)\n",
      "메이제이\n",
      "남자가 정말 좋아하는 여자에게만 하는 말 3가지\n",
      "책썰미\n",
      "고급스러운 가을 가디건코디를 선보인 블랙핑크 제니 ! 고급스러운 제니 파리 패션 , 여자 가을 패션 추천\n",
      "mandy\n",
      "식품공학의 정수.jpg\n",
      "베스트 뿜\n",
      "아무리 봐도 천재적\n",
      "스텐팬을 사용하는 사람들의 모임\n",
      "부담스럽던 ‘주방’, 오래 살 생각으로 싹~ 고쳤더니?! | 온라인 집들이\n",
      "오늘의집\n",
      "기부\n",
      "매일 2.5km 등교길을 걸어서 다니는 아름이\n",
      "열매나눔재단\n",
      "매일 찾는 짧은 즐거움\n",
      "신경외과 전문의가 만든 가성비 매트리스 허리에 좋은 매트리스라 탄탄한 편인데 머리 허리 다리 3존이 탄탄함이 다름 자다가 자주 깨는 신랑도 허리 안아프고 편하다고 함 #제품제공 #상품리뷰 #매트리스 #허리에좋은매트리스 #바르누이 #바르누이매트리스\n",
      "뚱마요\n",
      "보잘것없는 저의 movie 댄스영상보시며 모두 마지막 추석연휴 즐겁게 보내시길 바랍니다 ☺️\n",
      "make a wish\n",
      "대륙의 케이크 담는법 🎂 아무리 꽁짜라지만… 해외골프여행 문의는 ‘지몽드골프’ 문의주세요. 매일매일 새로운 골프여행 특가가 업데이트 됩니다. #골프#골프여행#중국골프#클립#클립크리에이터#크리에이터#여행#golf#네이버클립#네이버#golf#밈#일본골프#일본골프여행#히로시마골프#히로시마골프여행\n",
      "취미골퍼입니닷\n",
      "PFW 25SS _ 4 김상지님\n",
      "RAYKMODE\n",
      "생에 처음 KTX를 타고 부산국제영화제에 다녀왔습니다! #부산국제영화제#biff#부산#추천#클립크리에이터#NCCP\n",
      "JN\n",
      "가을 가습기는 스텐팟 가열식 가습기로!💧 6L 대용량으로 100℃ 물을 끓여내는 고온 멸균 방식이라 순수한 수증기만 나오니 안심! 💦✨ 스테인리스 내솥 덕분에 위생적으로 관리가 가능하고 자동 세척 모드로 번거로운 세척 없이도 매일매일 깨끗하게 습도조절이 가능한 가습기 추천해요😊 #스텐팟 #스텐팟가습기 #가열식가습기 #가습기 #가습기추천 #신생아가습기 #신생아가습기추천 #가열식가습기추천 #스텐가습기 #아기가습기 #비염가습기 #올스텐가습기 #오늘의집 #홈데코 #홈스타일링 #인테리어디자인 #홈오피스 #라이프스타일 #리빙 #홈\n",
      "Umie\n",
      "다음 페이지\n",
      "펼쳐보기\n",
      "네이버를 더 안전하고 편리하게 이용하세요\n",
      "NAVER\n",
      "로그인\n",
      "아이디 찾기비밀번호 찾기회원가입\n",
      "날씨\n",
      "예보 비교\n",
      "안양시 안양동\n",
      "20.4°\n",
      "맑음\n",
      "최저기온\n",
      "12°\n",
      "최고기온\n",
      "23°\n",
      "미세좋음초미세좋음\n",
      "12시\n",
      "맑음\n",
      "21°\n",
      "14\n",
      "맑음\n",
      "22°\n",
      "16\n",
      "맑음\n",
      "23°\n",
      "18\n",
      "맑음\n",
      "20°\n",
      "20\n",
      "맑음\n",
      "17°\n",
      "증시\n",
      "정보 더보기\n",
      "\n",
      "10.04. 11:54\n",
      "새로고침\n",
      "환율 USD\n",
      "1,333.00\n",
      "8.50\n",
      "3개월 차트\n",
      "코스피\n",
      "2,577.21\n",
      "상승\n",
      "15.52+0.61%\n",
      "삼성전자\n",
      "상승\n",
      "0.16%\n",
      "61,400\n",
      "유한양행\n",
      "상승\n",
      "6.89%\n",
      "148,900\n",
      "SK하이닉스\n",
      "상승\n",
      "3.43%\n",
      "174,900\n",
      "인기종목 더보기\n",
      "위젯 보드\n",
      "캘린더\n",
      "10.4금\n",
      "로그인하기\n",
      "캘린더\n",
      "일 월 화 수 목 금 토\n",
      "29 30 1 2 3 4 5\n",
      "6 7 8 9 10 11 12\n",
      "13 14 15 16 17 18 19\n",
      "20 21 22 23 24 25 26\n",
      "27 28 29 30 31 1 2\n",
      "VIBE\n",
      "해외여행가요🧳\n",
      "다른 추천 보기\n",
      "이번 역은 그린델발트입니다\n",
      "재생\n",
      "트램 타고 동네 한 바퀴\n",
      "재생\n",
      "산 마르코 광장의 활기찬 풍경\n",
      "재생\n",
      "papago\n",
      "다음 페이지\n",
      "모바일 네이버 메인\n",
      " 열기\n",
      "나만의 스마트한 브라우저, 웨일\n",
      "인터넷을 여는 가장 스마트한 방법\n",
      "최상단으로 이동\n",
      "홈 설정\n",
      "모바일 버전으로 보기\n",
      "공지사항\n",
      "서비스 전체보기\n",
      "Partners\n",
      "프로젝트 꽃\n",
      "네이버 비즈니스\n",
      "네이버 비즈니스 스쿨\n",
      "네이버 광고\n",
      "스토어 개설\n",
      "지역업체 등록\n",
      "엑스퍼트 등록\n",
      "Developers\n",
      "네이버 개발자 센터\n",
      "오픈 API\n",
      "오픈소스\n",
      "네이버 D2\n",
      "네이버 D2SF\n",
      "네이버 랩스\n",
      "웨일 브라우저\n",
      "이용안내\n",
      "기업 사이트\n",
      "바로가기\n",
      "네이버 정책 및 약관\n",
      "회사소개인재채용제휴제안이용약관개인정보처리방침청소년보호정책네이버 정책고객센터ⓒ NAVER Corp.\n",
      "div : NAVER\n",
      "검색\n",
      "검색\n",
      "자동완성/최근검색어펼치기\n",
      "\n",
      "\n",
      "메일\n",
      "카페\n",
      "블로그\n",
      "쇼핑\n",
      "뉴스\n",
      "증권\n",
      "부동산\n",
      "지도\n",
      "웹툰\n",
      "치지직\n",
      "추천\n",
      "바로가기 펼침\n",
      "확장 영역\n",
      "페이 바로가기\n",
      "톡\n",
      "알림\n",
      "장바구니\n",
      "알림\n",
      "div : NAVER\n",
      "검색\n",
      "검색\n",
      "자동완성/최근검색어펼치기\n",
      "\n",
      "\n",
      "메일\n",
      "카페\n",
      "블로그\n",
      "쇼핑\n",
      "뉴스\n",
      "증권\n",
      "부동산\n",
      "지도\n",
      "웹툰\n",
      "치지직\n",
      "추천\n",
      "바로가기 펼침\n",
      "확장 영역\n",
      "페이 바로가기\n",
      "톡\n",
      "알림\n",
      "장바구니\n",
      "알림\n",
      "div : \n",
      "div : \n",
      "div : NAVER\n",
      "검색\n",
      "검색\n",
      "자동완성/최근검색어펼치기\n",
      "div : NAVER\n",
      "검색\n",
      "검색\n",
      "자동완성/최근검색어펼치기\n",
      "div : NAVER\n",
      "검색\n",
      "검색\n",
      "자동완성/최근검색어펼치기\n",
      "div : \n",
      "div : 자동완성/최근검색어펼치기\n",
      "div : \n",
      "div : \n",
      "div : \n",
      "div : \n",
      "div : \n",
      "div : \n",
      "div : \n",
      "div : \n",
      "div : \n",
      "div : \n",
      "div : \n",
      "div : \n",
      "div : \n",
      "div : \n",
      "div : \n",
      "div : \n",
      "div : \n",
      "div : \n",
      "div : \n",
      "div : \n",
      "div : \n",
      "div : \n",
      "div : \n",
      "div : \n",
      "div : \n",
      "div : \n",
      "div : \n",
      "div : \n",
      "div : \n",
      "div : \n",
      "div : \n",
      "div : \n",
      "div : \n",
      "div : \n",
      "div : \n",
      "div : 메일\n",
      "카페\n",
      "블로그\n",
      "쇼핑\n",
      "뉴스\n",
      "증권\n",
      "부동산\n",
      "지도\n",
      "웹툰\n",
      "치지직\n",
      "추천\n",
      "바로가기 펼침\n",
      "div : 확장 영역\n",
      "div : 페이 바로가기\n",
      "div : 톡\n",
      "div : 알림\n",
      "div : 장바구니\n",
      "알림\n",
      "div : 뉴스스탠드언론사편집\n",
      "엔터\n",
      "스포츠LIVE\n",
      "경제\n",
      "쇼핑투데이\n",
      "전체언론사\n",
      "연합뉴스\n",
      "與, '김여사 특검법' 부결 당론 확정…\"野 목적은 정권 퇴진\"\n",
      "뉴스스탠드뉴스홈\n",
      "리스트형\n",
      "썸네일형\n",
      "이전 페이지\n",
      "언론사 더보기1\n",
      "페이지\n",
      "전체\n",
      "/4\n",
      "다음 페이지\n",
      "추천・구독\n",
      "자동차\n",
      "웹툰\n",
      "패션뷰티\n",
      "푸드\n",
      "리빙\n",
      "책방\n",
      "지식+\n",
      "건강\n",
      "게임\n",
      "인기\n",
      "동물\n",
      "여행\n",
      "연애결혼\n",
      "영화\n",
      "육아\n",
      "구독홈\n",
      "기부\n",
      "레바논 폭격 피해, 아이들을 도와주세요\n",
      "유니세프\n",
      "펀딩\n",
      "국내산 원물 100%! 블렌딩 티로 즐기는 호박차\n",
      "나이스투잇츄\n",
      "나는솔로 20기 정숙 영호와 결별 이유 발목 잡은 시무 35조\n",
      "청우\n",
      "보기 흉하게 울퉁불퉁 튀어나온 손등 핏줄, 이유가 뭘까?\n",
      "아빠약사\n",
      "찐부자라는 나는 솔로 22기 현숙 명품으로 도배한 패션 (루이비통 가방, 까르띠에 시계)\n",
      "메이제이\n",
      "남자가 정말 좋아하는 여자에게만 하는 말 3가지\n",
      "책썰미\n",
      "고급스러운 가을 가디건코디를 선보인 블랙핑크 제니 ! 고급스러운 제니 파리 패션 , 여자 가을 패션 추천\n",
      "mandy\n",
      "식품공학의 정수.jpg\n",
      "베스트 뿜\n",
      "아무리 봐도 천재적\n",
      "스텐팬을 사용하는 사람들의 모임\n",
      "부담스럽던 ‘주방’, 오래 살 생각으로 싹~ 고쳤더니?! | 온라인 집들이\n",
      "오늘의집\n",
      "기부\n",
      "매일 2.5km 등교길을 걸어서 다니는 아름이\n",
      "열매나눔재단\n",
      "매일 찾는 짧은 즐거움\n",
      "신경외과 전문의가 만든 가성비 매트리스 허리에 좋은 매트리스라 탄탄한 편인데 머리 허리 다리 3존이 탄탄함이 다름 자다가 자주 깨는 신랑도 허리 안아프고 편하다고 함 #제품제공 #상품리뷰 #매트리스 #허리에좋은매트리스 #바르누이 #바르누이매트리스\n",
      "뚱마요\n",
      "보잘것없는 저의 movie 댄스영상보시며 모두 마지막 추석연휴 즐겁게 보내시길 바랍니다 ☺️\n",
      "make a wish\n",
      "대륙의 케이크 담는법 🎂 아무리 꽁짜라지만… 해외골프여행 문의는 ‘지몽드골프’ 문의주세요. 매일매일 새로운 골프여행 특가가 업데이트 됩니다. #골프#골프여행#중국골프#클립#클립크리에이터#크리에이터#여행#golf#네이버클립#네이버#golf#밈#일본골프#일본골프여행#히로시마골프#히로시마골프여행\n",
      "취미골퍼입니닷\n",
      "PFW 25SS _ 4 김상지님\n",
      "RAYKMODE\n",
      "생에 처음 KTX를 타고 부산국제영화제에 다녀왔습니다! #부산국제영화제#biff#부산#추천#클립크리에이터#NCCP\n",
      "JN\n",
      "가을 가습기는 스텐팟 가열식 가습기로!💧 6L 대용량으로 100℃ 물을 끓여내는 고온 멸균 방식이라 순수한 수증기만 나오니 안심! 💦✨ 스테인리스 내솥 덕분에 위생적으로 관리가 가능하고 자동 세척 모드로 번거로운 세척 없이도 매일매일 깨끗하게 습도조절이 가능한 가습기 추천해요😊 #스텐팟 #스텐팟가습기 #가열식가습기 #가습기 #가습기추천 #신생아가습기 #신생아가습기추천 #가열식가습기추천 #스텐가습기 #아기가습기 #비염가습기 #올스텐가습기 #오늘의집 #홈데코 #홈스타일링 #인테리어디자인 #홈오피스 #라이프스타일 #리빙 #홈\n",
      "Umie\n",
      "다음 페이지\n",
      "펼쳐보기\n",
      "네이버를 더 안전하고 편리하게 이용하세요\n",
      "NAVER\n",
      "로그인\n",
      "아이디 찾기비밀번호 찾기회원가입\n",
      "날씨\n",
      "예보 비교\n",
      "안양시 안양동\n",
      "20.4°\n",
      "맑음\n",
      "최저기온\n",
      "12°\n",
      "최고기온\n",
      "23°\n",
      "미세좋음초미세좋음\n",
      "12시\n",
      "맑음\n",
      "21°\n",
      "14\n",
      "맑음\n",
      "22°\n",
      "16\n",
      "맑음\n",
      "23°\n",
      "18\n",
      "맑음\n",
      "20°\n",
      "20\n",
      "맑음\n",
      "17°\n",
      "증시\n",
      "정보 더보기\n",
      "\n",
      "10.04. 11:54\n",
      "새로고침\n",
      "코스피\n",
      "2,577.21\n",
      "15.52\n",
      "코스닥\n",
      "773.74\n",
      "상승\n",
      "11.61+1.52%\n",
      "삼성전자\n",
      "상승\n",
      "0.16%\n",
      "61,400\n",
      "유한양행\n",
      "상승\n",
      "6.89%\n",
      "148,900\n",
      "SK하이닉스\n",
      "상승\n",
      "3.43%\n",
      "174,900\n",
      "인기종목 더보기\n",
      "위젯 보드\n",
      "캘린더\n",
      "10.4금\n",
      "로그인하기\n",
      "캘린더\n",
      "일 월 화 수 목 금 토\n",
      "29 30 1 2 3 4 5\n",
      "6 7 8 9 10 11 12\n",
      "13 14 15 16 17 18 19\n",
      "20 21 22 23 24 25 26\n",
      "27 28 29 30 31 1 2\n",
      "VIBE\n",
      "해외여행가요🧳\n",
      "다른 추천 보기\n",
      "이번 역은 그린델발트입니다\n",
      "재생\n",
      "트램 타고 동네 한 바퀴\n",
      "재생\n",
      "산 마르코 광장의 활기찬 풍경\n",
      "재생\n",
      "papago\n",
      "다음 페이지\n",
      "모바일 네이버 메인\n",
      " 열기\n",
      "나만의 스마트한 브라우저, 웨일\n",
      "인터넷을 여는 가장 스마트한 방법\n",
      "최상단으로 이동\n",
      "홈 설정\n",
      "모바일 버전으로 보기\n",
      "div : 뉴스스탠드언론사편집\n",
      "엔터\n",
      "스포츠LIVE\n",
      "경제\n",
      "쇼핑투데이\n",
      "전체언론사\n",
      "연합뉴스\n",
      "與, '김여사 특검법' 부결 당론 확정…\"野 목적은 정권 퇴진\"\n",
      "뉴스스탠드뉴스홈\n",
      "리스트형\n",
      "썸네일형\n",
      "이전 페이지\n",
      "언론사 더보기1\n",
      "페이지\n",
      "전체\n",
      "/4\n",
      "다음 페이지\n",
      "추천・구독\n",
      "자동차\n",
      "웹툰\n",
      "패션뷰티\n",
      "푸드\n",
      "리빙\n",
      "책방\n",
      "지식+\n",
      "건강\n",
      "게임\n",
      "인기\n",
      "동물\n",
      "여행\n",
      "연애결혼\n",
      "영화\n",
      "육아\n",
      "구독홈\n",
      "기부\n",
      "레바논 폭격 피해, 아이들을 도와주세요\n",
      "유니세프\n",
      "펀딩\n",
      "국내산 원물 100%! 블렌딩 티로 즐기는 호박차\n",
      "나이스투잇츄\n",
      "나는솔로 20기 정숙 영호와 결별 이유 발목 잡은 시무 35조\n",
      "청우\n",
      "보기 흉하게 울퉁불퉁 튀어나온 손등 핏줄, 이유가 뭘까?\n",
      "아빠약사\n",
      "찐부자라는 나는 솔로 22기 현숙 명품으로 도배한 패션 (루이비통 가방, 까르띠에 시계)\n",
      "메이제이\n",
      "남자가 정말 좋아하는 여자에게만 하는 말 3가지\n",
      "책썰미\n",
      "고급스러운 가을 가디건코디를 선보인 블랙핑크 제니 ! 고급스러운 제니 파리 패션 , 여자 가을 패션 추천\n",
      "mandy\n",
      "식품공학의 정수.jpg\n",
      "베스트 뿜\n",
      "아무리 봐도 천재적\n",
      "스텐팬을 사용하는 사람들의 모임\n",
      "부담스럽던 ‘주방’, 오래 살 생각으로 싹~ 고쳤더니?! | 온라인 집들이\n",
      "오늘의집\n",
      "기부\n",
      "매일 2.5km 등교길을 걸어서 다니는 아름이\n",
      "열매나눔재단\n",
      "매일 찾는 짧은 즐거움\n",
      "신경외과 전문의가 만든 가성비 매트리스 허리에 좋은 매트리스라 탄탄한 편인데 머리 허리 다리 3존이 탄탄함이 다름 자다가 자주 깨는 신랑도 허리 안아프고 편하다고 함 #제품제공 #상품리뷰 #매트리스 #허리에좋은매트리스 #바르누이 #바르누이매트리스\n",
      "뚱마요\n",
      "보잘것없는 저의 movie 댄스영상보시며 모두 마지막 추석연휴 즐겁게 보내시길 바랍니다 ☺️\n",
      "make a wish\n",
      "대륙의 케이크 담는법 🎂 아무리 꽁짜라지만… 해외골프여행 문의는 ‘지몽드골프’ 문의주세요. 매일매일 새로운 골프여행 특가가 업데이트 됩니다. #골프#골프여행#중국골프#클립#클립크리에이터#크리에이터#여행#golf#네이버클립#네이버#golf#밈#일본골프#일본골프여행#히로시마골프#히로시마골프여행\n",
      "취미골퍼입니닷\n",
      "PFW 25SS _ 4 김상지님\n",
      "RAYKMODE\n",
      "생에 처음 KTX를 타고 부산국제영화제에 다녀왔습니다! #부산국제영화제#biff#부산#추천#클립크리에이터#NCCP\n",
      "JN\n",
      "가을 가습기는 스텐팟 가열식 가습기로!💧 6L 대용량으로 100℃ 물을 끓여내는 고온 멸균 방식이라 순수한 수증기만 나오니 안심! 💦✨ 스테인리스 내솥 덕분에 위생적으로 관리가 가능하고 자동 세척 모드로 번거로운 세척 없이도 매일매일 깨끗하게 습도조절이 가능한 가습기 추천해요😊 #스텐팟 #스텐팟가습기 #가열식가습기 #가습기 #가습기추천 #신생아가습기 #신생아가습기추천 #가열식가습기추천 #스텐가습기 #아기가습기 #비염가습기 #올스텐가습기 #오늘의집 #홈데코 #홈스타일링 #인테리어디자인 #홈오피스 #라이프스타일 #리빙 #홈\n",
      "Umie\n",
      "다음 페이지\n",
      "펼쳐보기\n",
      "네이버를 더 안전하고 편리하게 이용하세요\n",
      "NAVER\n",
      "로그인\n",
      "아이디 찾기비밀번호 찾기회원가입\n",
      "날씨\n",
      "예보 비교\n",
      "안양시 안양동\n",
      "20.4°\n",
      "맑음\n",
      "최저기온\n",
      "12°\n",
      "최고기온\n",
      "23°\n",
      "미세좋음초미세좋음\n",
      "12시\n",
      "맑음\n",
      "21°\n",
      "14\n",
      "맑음\n",
      "22°\n",
      "16\n",
      "맑음\n",
      "23°\n",
      "18\n",
      "맑음\n",
      "20°\n",
      "20\n",
      "맑음\n",
      "17°\n",
      "증시\n",
      "정보 더보기\n",
      "\n",
      "10.04. 11:54\n",
      "새로고침\n",
      "코스피\n",
      "2,577.21\n",
      "15.52\n",
      "코스닥\n",
      "773.74\n",
      "상승\n",
      "11.61+1.52%\n",
      "삼성전자\n",
      "상승\n",
      "0.16%\n",
      "61,400\n",
      "유한양행\n",
      "상승\n",
      "6.89%\n",
      "148,900\n",
      "SK하이닉스\n",
      "상승\n",
      "3.43%\n",
      "174,900\n",
      "인기종목 더보기\n",
      "위젯 보드\n",
      "캘린더\n",
      "10.4금\n",
      "로그인하기\n",
      "캘린더\n",
      "일 월 화 수 목 금 토\n",
      "29 30 1 2 3 4 5\n",
      "6 7 8 9 10 11 12\n",
      "13 14 15 16 17 18 19\n",
      "20 21 22 23 24 25 26\n",
      "27 28 29 30 31 1 2\n",
      "VIBE\n",
      "해외여행가요🧳\n",
      "다른 추천 보기\n",
      "이번 역은 그린델발트입니다\n",
      "재생\n",
      "트램 타고 동네 한 바퀴\n",
      "재생\n",
      "산 마르코 광장의 활기찬 풍경\n",
      "재생\n",
      "papago\n",
      "다음 페이지\n",
      "모바일 네이버 메인\n",
      " 열기\n",
      "나만의 스마트한 브라우저, 웨일\n",
      "인터넷을 여는 가장 스마트한 방법\n",
      "최상단으로 이동\n",
      "홈 설정\n",
      "모바일 버전으로 보기\n",
      "div : 뉴스스탠드언론사편집\n",
      "엔터\n",
      "스포츠LIVE\n",
      "경제\n",
      "쇼핑투데이\n",
      "전체언론사\n",
      "연합뉴스\n",
      "與, '김여사 특검법' 부결 당론 확정…\"野 목적은 정권 퇴진\"\n",
      "뉴스스탠드뉴스홈\n",
      "리스트형\n",
      "썸네일형\n",
      "이전 페이지\n",
      "언론사 더보기1\n",
      "페이지\n",
      "전체\n",
      "/4\n",
      "다음 페이지\n",
      "추천・구독\n",
      "자동차\n",
      "웹툰\n",
      "패션뷰티\n",
      "푸드\n",
      "리빙\n",
      "책방\n",
      "지식+\n",
      "건강\n",
      "게임\n",
      "인기\n",
      "동물\n",
      "여행\n",
      "연애결혼\n",
      "영화\n",
      "육아\n",
      "구독홈\n",
      "기부\n",
      "레바논 폭격 피해, 아이들을 도와주세요\n",
      "유니세프\n",
      "펀딩\n",
      "국내산 원물 100%! 블렌딩 티로 즐기는 호박차\n",
      "나이스투잇츄\n",
      "나는솔로 20기 정숙 영호와 결별 이유 발목 잡은 시무 35조\n",
      "청우\n",
      "보기 흉하게 울퉁불퉁 튀어나온 손등 핏줄, 이유가 뭘까?\n",
      "아빠약사\n",
      "찐부자라는 나는 솔로 22기 현숙 명품으로 도배한 패션 (루이비통 가방, 까르띠에 시계)\n",
      "메이제이\n",
      "남자가 정말 좋아하는 여자에게만 하는 말 3가지\n",
      "책썰미\n",
      "고급스러운 가을 가디건코디를 선보인 블랙핑크 제니 ! 고급스러운 제니 파리 패션 , 여자 가을 패션 추천\n",
      "mandy\n",
      "식품공학의 정수.jpg\n",
      "베스트 뿜\n",
      "아무리 봐도 천재적\n",
      "스텐팬을 사용하는 사람들의 모임\n",
      "부담스럽던 ‘주방’, 오래 살 생각으로 싹~ 고쳤더니?! | 온라인 집들이\n",
      "오늘의집\n",
      "기부\n",
      "매일 2.5km 등교길을 걸어서 다니는 아름이\n",
      "열매나눔재단\n",
      "매일 찾는 짧은 즐거움\n",
      "신경외과 전문의가 만든 가성비 매트리스 허리에 좋은 매트리스라 탄탄한 편인데 머리 허리 다리 3존이 탄탄함이 다름 자다가 자주 깨는 신랑도 허리 안아프고 편하다고 함 #제품제공 #상품리뷰 #매트리스 #허리에좋은매트리스 #바르누이 #바르누이매트리스\n",
      "뚱마요\n",
      "보잘것없는 저의 movie 댄스영상보시며 모두 마지막 추석연휴 즐겁게 보내시길 바랍니다 ☺️\n",
      "make a wish\n",
      "대륙의 케이크 담는법 🎂 아무리 꽁짜라지만… 해외골프여행 문의는 ‘지몽드골프’ 문의주세요. 매일매일 새로운 골프여행 특가가 업데이트 됩니다. #골프#골프여행#중국골프#클립#클립크리에이터#크리에이터#여행#golf#네이버클립#네이버#golf#밈#일본골프#일본골프여행#히로시마골프#히로시마골프여행\n",
      "취미골퍼입니닷\n",
      "PFW 25SS _ 4 김상지님\n",
      "RAYKMODE\n",
      "생에 처음 KTX를 타고 부산국제영화제에 다녀왔습니다! #부산국제영화제#biff#부산#추천#클립크리에이터#NCCP\n",
      "JN\n",
      "가을 가습기는 스텐팟 가열식 가습기로!💧 6L 대용량으로 100℃ 물을 끓여내는 고온 멸균 방식이라 순수한 수증기만 나오니 안심! 💦✨ 스테인리스 내솥 덕분에 위생적으로 관리가 가능하고 자동 세척 모드로 번거로운 세척 없이도 매일매일 깨끗하게 습도조절이 가능한 가습기 추천해요😊 #스텐팟 #스텐팟가습기 #가열식가습기 #가습기 #가습기추천 #신생아가습기 #신생아가습기추천 #가열식가습기추천 #스텐가습기 #아기가습기 #비염가습기 #올스텐가습기 #오늘의집 #홈데코 #홈스타일링 #인테리어디자인 #홈오피스 #라이프스타일 #리빙 #홈\n",
      "Umie\n",
      "다음 페이지\n",
      "펼쳐보기\n",
      "div : \n",
      "div : \n",
      "div : \n",
      "div : 뉴스스탠드언론사편집\n",
      "엔터\n",
      "스포츠LIVE\n",
      "경제\n",
      "쇼핑투데이\n",
      "전체언론사\n",
      "연합뉴스\n",
      "與, '김여사 특검법' 부결 당론 확정…\"野 목적은 정권 퇴진\"\n",
      "뉴스스탠드뉴스홈\n",
      "리스트형\n",
      "썸네일형\n",
      "이전 페이지\n",
      "언론사 더보기1\n",
      "페이지\n",
      "전체\n",
      "/4\n",
      "다음 페이지\n",
      "div : 뉴스스탠드언론사편집\n",
      "엔터\n",
      "스포츠LIVE\n",
      "경제\n",
      "쇼핑투데이\n",
      "div : 뉴스스탠드언론사편집\n",
      "엔터\n",
      "스포츠LIVE\n",
      "경제\n",
      "쇼핑투데이\n",
      "div : 전체언론사\n",
      "연합뉴스\n",
      "與, '김여사 특검법' 부결 당론 확정…\"野 목적은 정권 퇴진\"\n",
      "게임 시작 5초 만에 여성 유저 조롱한 30대 성범죄자 전락\n",
      "뉴스스탠드뉴스홈\n",
      "div : 연합뉴스\n",
      "與, '김여사 특검법' 부결 당론 확정…\"野 목적은 정권 퇴진\"\n",
      "게임 시작 5초 만에 여성 유저 조롱한 30대 성범죄자 전락\n",
      "div : 與, '김여사 특검법' 부결 당론 확정…\"野 목적은 정권 퇴진\"\n",
      "게임 시작 5초 만에 여성 유저 조롱한 30대 성범죄자 전락\n"
     ]
    },
    {
     "ename": "StaleElementReferenceException",
     "evalue": "Message: stale element reference: stale element not found in the current frame\n  (Session info: chrome=129.0.6668.90); For documentation on this error, please visit: https://www.selenium.dev/documentation/webdriver/troubleshooting/errors#stale-element-reference-exception\nStacktrace:\n\tGetHandleVerifier [0x00B07143+25587]\n\t(No symbol) [0x00A9A2E4]\n\t(No symbol) [0x00992113]\n\t(No symbol) [0x00997CC4]\n\t(No symbol) [0x00999598]\n\t(No symbol) [0x00999610]\n\t(No symbol) [0x009D2277]\n\t(No symbol) [0x009FAB9C]\n\t(No symbol) [0x009CD044]\n\t(No symbol) [0x009FAE34]\n\t(No symbol) [0x00A15370]\n\t(No symbol) [0x009FA936]\n\t(No symbol) [0x009CBA73]\n\t(No symbol) [0x009CC4CD]\n\tGetHandleVerifier [0x00DE4C63+3030803]\n\tGetHandleVerifier [0x00E36B99+3366473]\n\tGetHandleVerifier [0x00B995F2+624802]\n\tGetHandleVerifier [0x00BA0E6C+655644]\n\t(No symbol) [0x00AA2C9D]\n\t(No symbol) [0x00A9FD68]\n\t(No symbol) [0x00A9FF05]\n\t(No symbol) [0x00A92336]\n\tBaseThreadInitThunk [0x7695FCC9+25]\n\tRtlGetAppContainerNamedObjectPath [0x772C80CE+286]\n\tRtlGetAppContainerNamedObjectPath [0x772C809E+238]\n",
     "output_type": "error",
     "traceback": [
      "\u001b[1;31m---------------------------------------------------------------------------\u001b[0m",
      "\u001b[1;31mStaleElementReferenceException\u001b[0m            Traceback (most recent call last)",
      "Cell \u001b[1;32mIn[65], line 2\u001b[0m\n\u001b[0;32m      1\u001b[0m \u001b[38;5;28;01mfor\u001b[39;00m tagName \u001b[38;5;129;01min\u001b[39;00m byTagNames :\n\u001b[1;32m----> 2\u001b[0m    \u001b[38;5;28mprint\u001b[39m(tagName\u001b[38;5;241m.\u001b[39mtag_name, \u001b[38;5;124m\"\u001b[39m\u001b[38;5;124m:\u001b[39m\u001b[38;5;124m\"\u001b[39m, tagName\u001b[38;5;241m.\u001b[39mtext)\n",
      "File \u001b[1;32m~\\anaconda3\\Lib\\site-packages\\selenium\\webdriver\\remote\\webelement.py:85\u001b[0m, in \u001b[0;36mWebElement.tag_name\u001b[1;34m(self)\u001b[0m\n\u001b[0;32m     82\u001b[0m \u001b[38;5;129m@property\u001b[39m\n\u001b[0;32m     83\u001b[0m \u001b[38;5;28;01mdef\u001b[39;00m \u001b[38;5;21mtag_name\u001b[39m(\u001b[38;5;28mself\u001b[39m) \u001b[38;5;241m-\u001b[39m\u001b[38;5;241m>\u001b[39m \u001b[38;5;28mstr\u001b[39m:\n\u001b[0;32m     84\u001b[0m \u001b[38;5;250m    \u001b[39m\u001b[38;5;124;03m\"\"\"This element's ``tagName`` property.\"\"\"\u001b[39;00m\n\u001b[1;32m---> 85\u001b[0m     \u001b[38;5;28;01mreturn\u001b[39;00m \u001b[38;5;28mself\u001b[39m\u001b[38;5;241m.\u001b[39m_execute(Command\u001b[38;5;241m.\u001b[39mGET_ELEMENT_TAG_NAME)[\u001b[38;5;124m\"\u001b[39m\u001b[38;5;124mvalue\u001b[39m\u001b[38;5;124m\"\u001b[39m]\n",
      "File \u001b[1;32m~\\anaconda3\\Lib\\site-packages\\selenium\\webdriver\\remote\\webelement.py:395\u001b[0m, in \u001b[0;36mWebElement._execute\u001b[1;34m(self, command, params)\u001b[0m\n\u001b[0;32m    393\u001b[0m     params \u001b[38;5;241m=\u001b[39m {}\n\u001b[0;32m    394\u001b[0m params[\u001b[38;5;124m\"\u001b[39m\u001b[38;5;124mid\u001b[39m\u001b[38;5;124m\"\u001b[39m] \u001b[38;5;241m=\u001b[39m \u001b[38;5;28mself\u001b[39m\u001b[38;5;241m.\u001b[39m_id\n\u001b[1;32m--> 395\u001b[0m \u001b[38;5;28;01mreturn\u001b[39;00m \u001b[38;5;28mself\u001b[39m\u001b[38;5;241m.\u001b[39m_parent\u001b[38;5;241m.\u001b[39mexecute(command, params)\n",
      "File \u001b[1;32m~\\anaconda3\\Lib\\site-packages\\selenium\\webdriver\\remote\\webdriver.py:354\u001b[0m, in \u001b[0;36mWebDriver.execute\u001b[1;34m(self, driver_command, params)\u001b[0m\n\u001b[0;32m    352\u001b[0m response \u001b[38;5;241m=\u001b[39m \u001b[38;5;28mself\u001b[39m\u001b[38;5;241m.\u001b[39mcommand_executor\u001b[38;5;241m.\u001b[39mexecute(driver_command, params)\n\u001b[0;32m    353\u001b[0m \u001b[38;5;28;01mif\u001b[39;00m response:\n\u001b[1;32m--> 354\u001b[0m     \u001b[38;5;28mself\u001b[39m\u001b[38;5;241m.\u001b[39merror_handler\u001b[38;5;241m.\u001b[39mcheck_response(response)\n\u001b[0;32m    355\u001b[0m     response[\u001b[38;5;124m\"\u001b[39m\u001b[38;5;124mvalue\u001b[39m\u001b[38;5;124m\"\u001b[39m] \u001b[38;5;241m=\u001b[39m \u001b[38;5;28mself\u001b[39m\u001b[38;5;241m.\u001b[39m_unwrap_value(response\u001b[38;5;241m.\u001b[39mget(\u001b[38;5;124m\"\u001b[39m\u001b[38;5;124mvalue\u001b[39m\u001b[38;5;124m\"\u001b[39m, \u001b[38;5;28;01mNone\u001b[39;00m))\n\u001b[0;32m    356\u001b[0m     \u001b[38;5;28;01mreturn\u001b[39;00m response\n",
      "File \u001b[1;32m~\\anaconda3\\Lib\\site-packages\\selenium\\webdriver\\remote\\errorhandler.py:229\u001b[0m, in \u001b[0;36mErrorHandler.check_response\u001b[1;34m(self, response)\u001b[0m\n\u001b[0;32m    227\u001b[0m         alert_text \u001b[38;5;241m=\u001b[39m value[\u001b[38;5;124m\"\u001b[39m\u001b[38;5;124malert\u001b[39m\u001b[38;5;124m\"\u001b[39m]\u001b[38;5;241m.\u001b[39mget(\u001b[38;5;124m\"\u001b[39m\u001b[38;5;124mtext\u001b[39m\u001b[38;5;124m\"\u001b[39m)\n\u001b[0;32m    228\u001b[0m     \u001b[38;5;28;01mraise\u001b[39;00m exception_class(message, screen, stacktrace, alert_text)  \u001b[38;5;66;03m# type: ignore[call-arg]  # mypy is not smart enough here\u001b[39;00m\n\u001b[1;32m--> 229\u001b[0m \u001b[38;5;28;01mraise\u001b[39;00m exception_class(message, screen, stacktrace)\n",
      "\u001b[1;31mStaleElementReferenceException\u001b[0m: Message: stale element reference: stale element not found in the current frame\n  (Session info: chrome=129.0.6668.90); For documentation on this error, please visit: https://www.selenium.dev/documentation/webdriver/troubleshooting/errors#stale-element-reference-exception\nStacktrace:\n\tGetHandleVerifier [0x00B07143+25587]\n\t(No symbol) [0x00A9A2E4]\n\t(No symbol) [0x00992113]\n\t(No symbol) [0x00997CC4]\n\t(No symbol) [0x00999598]\n\t(No symbol) [0x00999610]\n\t(No symbol) [0x009D2277]\n\t(No symbol) [0x009FAB9C]\n\t(No symbol) [0x009CD044]\n\t(No symbol) [0x009FAE34]\n\t(No symbol) [0x00A15370]\n\t(No symbol) [0x009FA936]\n\t(No symbol) [0x009CBA73]\n\t(No symbol) [0x009CC4CD]\n\tGetHandleVerifier [0x00DE4C63+3030803]\n\tGetHandleVerifier [0x00E36B99+3366473]\n\tGetHandleVerifier [0x00B995F2+624802]\n\tGetHandleVerifier [0x00BA0E6C+655644]\n\t(No symbol) [0x00AA2C9D]\n\t(No symbol) [0x00A9FD68]\n\t(No symbol) [0x00A9FF05]\n\t(No symbol) [0x00A92336]\n\tBaseThreadInitThunk [0x7695FCC9+25]\n\tRtlGetAppContainerNamedObjectPath [0x772C80CE+286]\n\tRtlGetAppContainerNamedObjectPath [0x772C809E+238]\n"
     ]
    }
   ],
   "source": [
    "for tagName in byTagNames :\n",
    "   print(tagName.tag_name, \":\", tagName.text)"
   ]
  },
  {
   "cell_type": "code",
   "execution_count": null,
   "id": "a6eaaf9a-04a8-45b2-a619-1405351c1310",
   "metadata": {},
   "outputs": [],
   "source": [
    "driver = getChrome()\n",
    "\n",
    "driver.get('https://n.news.naver.com/mnews/article/366/0001021732')\n",
    "byId = driver.find_element(By.ID,'dic_area')\n",
    "\n",
    "print(type(byId))\n",
    "print(byId.tag_name, \":\", byId.text)"
   ]
  },
  {
   "cell_type": "code",
   "execution_count": 59,
   "id": "2b2ffc22-6fb6-4f2c-a17b-06f1cf8cd711",
   "metadata": {
    "scrolled": true
   },
   "outputs": [
    {
     "name": "stdout",
     "output_type": "stream",
     "text": [
      "<class 'selenium.webdriver.remote.webelement.WebElement'>\n",
      "a : 본문 바로가기\n"
     ]
    }
   ],
   "source": [
    "byLinkText = driver.find_element(By.LINK_TEXT,'본문 바로가기')\n",
    "print(type(byLinkText))\n",
    "print(byLinkText.tag_name, \":\", byLinkText.text)"
   ]
  },
  {
   "cell_type": "code",
   "execution_count": 73,
   "id": "7563fb9b-f89e-4c95-8f5a-4ab148170fdf",
   "metadata": {},
   "outputs": [],
   "source": [
    "driver = getChrome()"
   ]
  },
  {
   "cell_type": "code",
   "execution_count": 77,
   "id": "9ce5a96b-2658-4a88-a1fc-163f412d9e15",
   "metadata": {},
   "outputs": [
    {
     "name": "stdout",
     "output_type": "stream",
     "text": [
      "<class 'list'>\n",
      "a : 본문 바로가기\n"
     ]
    }
   ],
   "source": [
    "driver.get('https://media.naver.com/press/037?sid=104')\n",
    "byPLinkText = driver.find_elements(By.PARTIAL_LINK_TEXT,'본문')\n",
    "print(type(byPLinkText))\n",
    "\n",
    "for linkText in byPLinkText :\n",
    "   print(linkText.tag_name, \":\", linkText.text)"
   ]
  },
  {
   "cell_type": "code",
   "execution_count": 89,
   "id": "5724caf6-4971-440d-b8b3-8d4817a0364c",
   "metadata": {},
   "outputs": [
    {
     "name": "stdout",
     "output_type": "stream",
     "text": [
      "<class 'selenium.webdriver.remote.webelement.WebElement'>\n",
      "a : 지승현 커밍아웃 \"불치병 걸렀댜…술·담배 끊어\"('쏘는형')\n"
     ]
    }
   ],
   "source": [
    "driver.get('https://entertain.naver.com/home')\n",
    "driver.implicitly_wait(3)\n",
    "byXpath1 = driver.find_element(By.XPATH,'//*[@id=\"left_cont\"]/div[1]/div[2]/div[1]/div/a[1]')\n",
    "print(type(byXpath1))\n",
    "print(byXpath1.tag_name, \":\", byXpath1.text)"
   ]
  },
  {
   "cell_type": "code",
   "execution_count": 127,
   "id": "457c4795-d274-4c81-b761-8dbe87eddb93",
   "metadata": {},
   "outputs": [],
   "source": [
    "driver.get('https://nid.naver.com/nidlogin.login?mode=form&url=https://www.naver.com/')"
   ]
  },
  {
   "cell_type": "code",
   "execution_count": 129,
   "id": "35b1770a-d2f8-4a5f-b365-225a70b696c9",
   "metadata": {},
   "outputs": [],
   "source": [
    "input_id = driver.find_element(By.XPATH, '//*[@id=\"id\"]')"
   ]
  },
  {
   "cell_type": "code",
   "execution_count": 131,
   "id": "0f2fe6b2-6dab-4f9e-85c6-9d1415a81d64",
   "metadata": {},
   "outputs": [],
   "source": [
    "input_pwd = driver.find_element(By.XPATH, '//*[@id=\"pw\"]')"
   ]
  },
  {
   "cell_type": "code",
   "execution_count": 133,
   "id": "c7dce5c1-533f-4bfb-851b-49042167ff61",
   "metadata": {},
   "outputs": [],
   "source": [
    "btn_login = driver.find_element(By.XPATH, '//*[@id=\"log.login\"]')"
   ]
  },
  {
   "cell_type": "code",
   "execution_count": 135,
   "id": "e685db39-3b41-4b01-a552-18d43b6faa40",
   "metadata": {},
   "outputs": [],
   "source": []
  },
  {
   "cell_type": "code",
   "execution_count": 137,
   "id": "4888332f-fea5-4220-ab49-022b58cf3413",
   "metadata": {},
   "outputs": [],
   "source": [
    "from selenium.webdriver.common.keys import Keys\n",
    "btn_login.click()"
   ]
  },
  {
   "cell_type": "code",
   "execution_count": 161,
   "id": "92d759df-cba7-4f42-a4ea-f9f939750f6f",
   "metadata": {},
   "outputs": [],
   "source": [
    "driver.get('https://mail.naver.com/v2/folders/0/all')"
   ]
  },
  {
   "cell_type": "code",
   "execution_count": 163,
   "id": "442c0ca9-fff7-4976-b06b-ad277c41b707",
   "metadata": {},
   "outputs": [],
   "source": [
    "email_title = driver.find_element(By.XPATH, '//*[@id=\"mail_list_wrap\"]/ul/li[1]/div/div[4]/div/a/span[2]')"
   ]
  },
  {
   "cell_type": "code",
   "execution_count": 165,
   "id": "4898e148-45ed-47b0-9583-05f2199d9f72",
   "metadata": {},
   "outputs": [
    {
     "data": {
      "text/plain": [
       "'새로운 환경에서 로그인 되었습니다.'"
      ]
     },
     "execution_count": 165,
     "metadata": {},
     "output_type": "execute_result"
    }
   ],
   "source": [
    "email_title.text"
   ]
  },
  {
   "cell_type": "markdown",
   "id": "d70882ba-c29e-464c-a1f3-ac31e98d61fe",
   "metadata": {},
   "source": [
    "## Naver에서 오늘의 날씨를 가져오세요\n",
    "* 서울, 광주, 제주"
   ]
  },
  {
   "cell_type": "code",
   "execution_count": 169,
   "id": "21477c13-734b-4a36-8b6b-999f4503b22f",
   "metadata": {},
   "outputs": [],
   "source": [
    "driver.get('https://weather.naver.com/today/09680675')"
   ]
  },
  {
   "cell_type": "code",
   "execution_count": 173,
   "id": "b1a9dc36-c964-4dbc-8718-690399895bab",
   "metadata": {},
   "outputs": [
    {
     "data": {
      "text/plain": [
       "('현재 온도\\n23.3°', '맑음\\n어제보다 2.1°\\n높아요')"
      ]
     },
     "execution_count": 173,
     "metadata": {},
     "output_type": "execute_result"
    }
   ],
   "source": [
    "weather = driver.find_element(By.XPATH, '//*[@id=\"content\"]/div[1]/div[1]/div[4]/div[1]/div/strong')\n",
    "summary = driver.find_element(By.XPATH, '//*[@id=\"content\"]/div[1]/div[1]/div[4]/div[1]/p')\n",
    "weather.text, summary.text"
   ]
  },
  {
   "cell_type": "code",
   "execution_count": 175,
   "id": "cc982e3b-c883-4ee9-a63f-fa3c9cb6a3ed",
   "metadata": {},
   "outputs": [],
   "source": [
    "driver.get('https://weather.naver.com/today/05140120')"
   ]
  },
  {
   "cell_type": "code",
   "execution_count": 177,
   "id": "f03e52e2-f544-4b96-967b-d1bd1033ead2",
   "metadata": {},
   "outputs": [
    {
     "data": {
      "text/plain": [
       "('현재 온도\\n23.2°', '맑음\\n어제보다 7.5°\\n높아요')"
      ]
     },
     "execution_count": 177,
     "metadata": {},
     "output_type": "execute_result"
    }
   ],
   "source": [
    "weather = driver.find_element(By.XPATH, '//*[@id=\"content\"]/div[1]/div[1]/div[4]/div[1]/div/strong')\n",
    "summary = driver.find_element(By.XPATH, '//*[@id=\"content\"]/div[1]/div[1]/div[4]/div[1]/p')\n",
    "weather.text, summary.text"
   ]
  },
  {
   "cell_type": "code",
   "execution_count": 179,
   "id": "20fae599-9178-4676-be8f-e7f36841a368",
   "metadata": {},
   "outputs": [],
   "source": [
    "driver.get('https://weather.naver.com/today/14110630')"
   ]
  },
  {
   "cell_type": "code",
   "execution_count": 181,
   "id": "af611c1b-ebba-4ab5-805e-b2d3f69687db",
   "metadata": {},
   "outputs": [
    {
     "data": {
      "text/plain": [
       "('현재 온도\\n21.7°', '구름많음\\n어제보다 5.6°\\n높아요')"
      ]
     },
     "execution_count": 181,
     "metadata": {},
     "output_type": "execute_result"
    }
   ],
   "source": [
    "weather = driver.find_element(By.XPATH, '//*[@id=\"content\"]/div[1]/div[1]/div[4]/div[1]/div/strong')\n",
    "summary = driver.find_element(By.XPATH, '//*[@id=\"content\"]/div[1]/div[1]/div[4]/div[1]/p')\n",
    "weather.text, summary.text"
   ]
  },
  {
   "cell_type": "code",
   "execution_count": 187,
   "id": "229d2815-b097-4fe2-82ba-a85bd14e57af",
   "metadata": {},
   "outputs": [
    {
     "name": "stdout",
     "output_type": "stream",
     "text": [
      "서울 현재 온도\n",
      "23.4° 맑음\n",
      "어제보다 2.2°\n",
      "높아요\n",
      "광주 현재 온도\n",
      "24° 맑음\n",
      "어제보다 8.3°\n",
      "높아요\n",
      "제주 현재 온도\n",
      "22.4° 구름많음\n",
      "어제보다 6.3°\n",
      "높아요\n"
     ]
    }
   ],
   "source": [
    "areas = ['09680675', '05140120','14110630']\n",
    "code = ['서울', '광주', '제주']\n",
    "\n",
    "for i, area in enumerate(areas):\n",
    "    url = 'https://weather.naver.com/today/'+str(area)\n",
    "    driver.get(url)\n",
    "    driver.implicitly_wait(3)\n",
    "    weather = driver.find_element(By.XPATH, '//*[@id=\"content\"]/div[1]/div[1]/div[4]/div[1]/div/strong')\n",
    "    summary = driver.find_element(By.XPATH, '//*[@id=\"content\"]/div[1]/div[1]/div[4]/div[1]/p')\n",
    "    #weather.text, summary.text\n",
    "    print(code[i], weather.text), summary.text)"
   ]
  },
  {
   "cell_type": "code",
   "execution_count": null,
   "id": "1b72b8df-f4bf-480f-b578-a50d0a1e8b8e",
   "metadata": {},
   "outputs": [],
   "source": [
    "# https://news.naver.com/section/101\n",
    "# 헤드라인 뉴스 제목 5개 추출해보세요."
   ]
  },
  {
   "cell_type": "code",
   "execution_count": 223,
   "id": "d5d5cc4d-3358-4082-b635-8fbf7368518a",
   "metadata": {},
   "outputs": [],
   "source": [
    "driver.get('https://news.naver.com/section/101')"
   ]
  },
  {
   "cell_type": "code",
   "execution_count": 227,
   "id": "fbab2c0e-6912-49f3-9c85-afcb88b8e377",
   "metadata": {},
   "outputs": [
    {
     "data": {
      "text/plain": [
       "<selenium.webdriver.remote.webelement.WebElement (session=\"3cd7b270a426ff2c14696570d39d2d20\", element=\"f.0E2EE53C63C3DE98E84BBED2E5FE9696.d.E1A021700363750299AB98995B62A4DD.e.66370\")>"
      ]
     },
     "execution_count": 227,
     "metadata": {},
     "output_type": "execute_result"
    }
   ],
   "source": [
    "headline = driver.find_element(By.XPATH, '//*[@id=\"newsct\"]/div[1]/div[1]')\n",
    "headline # //*[@id=\"_SECTION_HEADLINE_LIST_vtl2r\"]"
   ]
  },
  {
   "cell_type": "code",
   "execution_count": 235,
   "id": "198fb82c-6708-45f3-ae10-9994a4b95f02",
   "metadata": {},
   "outputs": [
    {
     "data": {
      "text/plain": [
       "'고려아연 \"공개매수 차익, 배당소득세 적용…2000만원 이하는 15.4%\"'"
      ]
     },
     "execution_count": 235,
     "metadata": {},
     "output_type": "execute_result"
    }
   ],
   "source": [
    "title1 = headline.find_element(By.XPATH, '//*[@id=\"_SECTION_HEADLINE_LIST_8mkdn\"]/li[1]/div/div/div[2]/a/strong')\n",
    "title1.text"
   ]
  },
  {
   "cell_type": "code",
   "execution_count": 237,
   "id": "b34f38a5-7cca-46c4-930e-ef027ae2addc",
   "metadata": {},
   "outputs": [
    {
     "data": {
      "text/plain": [
       "'中 후판 반덤핑 조사 시작…저가공세 밀어내기 끝날까'"
      ]
     },
     "execution_count": 237,
     "metadata": {},
     "output_type": "execute_result"
    }
   ],
   "source": [
    "title2 = headline.find_element(By.XPATH, '//*[@id=\"_SECTION_HEADLINE_LIST_8mkdn\"]/li[2]/div/div/div[2]/a/strong')\n",
    "title2.text"
   ]
  },
  {
   "cell_type": "code",
   "execution_count": 239,
   "id": "be58a9b4-01fb-49b6-a8ef-4f5a8ad15beb",
   "metadata": {},
   "outputs": [
    {
     "data": {
      "text/plain": [
       "\"미국에서 삼성 TV만 틀어도 '택시운전사' '삼시세끼' 나온다\""
      ]
     },
     "execution_count": 239,
     "metadata": {},
     "output_type": "execute_result"
    }
   ],
   "source": [
    "title3 = headline.find_element(By.XPATH, '//*[@id=\"_SECTION_HEADLINE_LIST_8mkdn\"]/li[3]/div/div/div[2]/a/strong')\n",
    "title3.text"
   ]
  },
  {
   "cell_type": "code",
   "execution_count": 277,
   "id": "8d626f32-d838-4b6e-a5c4-b65248015b3b",
   "metadata": {},
   "outputs": [],
   "source": [
    "driver.get('https://news.naver.com/section/101')"
   ]
  },
  {
   "cell_type": "code",
   "execution_count": 279,
   "id": "339882f9-e7f9-4836-8f43-585cb24d8ac1",
   "metadata": {},
   "outputs": [],
   "source": [
    "url = '//*[starts-with(@id, \"_SECTION_HEADLINE_LIST_\")]/li[{}]/div/div/div[2]/a/strong'\n",
    "#//*[starts-with(@id, \"_SECTION_HEADLINE_LIST_\")]/li[1]/div/div/div[2]/a/strong"
   ]
  },
  {
   "cell_type": "code",
   "execution_count": 281,
   "id": "5e842c70-8e8a-4b79-8ab9-cfcaa9197348",
   "metadata": {},
   "outputs": [
    {
     "name": "stdout",
     "output_type": "stream",
     "text": [
      "고려아연 \"공개매수 차익, 배당소득세 적용…2000만원 이하는 15.4%\"\n",
      "中 후판 반덤핑 조사 시작…저가공세 밀어내기 끝날까\n",
      "중동 갈등 고조에 고개 드는 국제유가…정부, 점검회의 개최\n",
      "대한전선, 싱가포르서 8400억 규모 초고압 전력망 수주\n",
      "지방 대학 위기 속…부영그룹과 창신대의 ‘상생’\n"
     ]
    }
   ],
   "source": [
    "# \n",
    "for i in range(1, 6):\n",
    "    title_elem = driver.find_element(By.XPATH, url.format(i))\n",
    "    print(title_elem.text)\n",
    "    driver.implicitly_wait(3)"
   ]
  },
  {
   "cell_type": "code",
   "execution_count": null,
   "id": "d71a0237-e7dc-482b-8e27-6e744dc41b39",
   "metadata": {},
   "outputs": [],
   "source": [
    "# https://finance.naver.com/sise/\n",
    "# Top종목 상한가 테이블 데이터를 DataFrame으로 생성하고 CSV 파일에 저장"
   ]
  },
  {
   "cell_type": "code",
   "execution_count": 289,
   "id": "aa9cf26d-7ef8-46b0-9a69-dc2605225d62",
   "metadata": {},
   "outputs": [],
   "source": [
    "driver = getChrome()"
   ]
  },
  {
   "cell_type": "code",
   "execution_count": 319,
   "id": "c2fe1397-bf66-44f2-89ec-89bf46222829",
   "metadata": {},
   "outputs": [],
   "source": [
    "driver.get('https://finance.naver.com/sise/')"
   ]
  },
  {
   "cell_type": "code",
   "execution_count": 323,
   "id": "c5eb6932-f69f-4cf2-b02c-d930f00c2799",
   "metadata": {},
   "outputs": [
    {
     "data": {
      "text/plain": [
       "'tbody'"
      ]
     },
     "execution_count": 323,
     "metadata": {},
     "output_type": "execute_result"
    }
   ],
   "source": [
    "# \n",
    "tbody = driver.find_element(By.XPATH, '//*[@id=\"siselist_tab_0\"]/tbody')\n",
    "tbody.tag_name"
   ]
  },
  {
   "cell_type": "code",
   "execution_count": 333,
   "id": "f67fd0d5-c25a-4702-932f-342c8617910b",
   "metadata": {},
   "outputs": [
    {
     "data": {
      "text/plain": [
       "<selenium.webdriver.remote.webelement.WebElement (session=\"0bf4afa825fb3bc9babaaef8b9ccbf36\", element=\"f.D7B681157409F213400C2C89AD6535AF.d.FE96EFFB650700A75CE536565ED52111.e.13336\")>"
      ]
     },
     "execution_count": 333,
     "metadata": {},
     "output_type": "execute_result"
    }
   ],
   "source": [
    "tr = tbody.find_element(By.XPATH, '//*[@id=\"siselist_tab_0\"]/tbody/tr[3]')\n",
    "tr"
   ]
  },
  {
   "cell_type": "code",
   "execution_count": 337,
   "id": "ffaac910-911a-4c82-b1ed-22ac98217134",
   "metadata": {},
   "outputs": [
    {
     "data": {
      "text/plain": [
       "'1'"
      ]
     },
     "execution_count": 337,
     "metadata": {},
     "output_type": "execute_result"
    }
   ],
   "source": [
    "td = tr.find_element(By.XPATH, '//*[@id=\"siselist_tab_0\"]/tbody/tr[3]/td[2]')\n",
    "td.text"
   ]
  },
  {
   "cell_type": "code",
   "execution_count": 339,
   "id": "040a8b63-287d-405d-a01e-6f6745926dcd",
   "metadata": {},
   "outputs": [
    {
     "data": {
      "text/plain": [
       "'2'"
      ]
     },
     "execution_count": 339,
     "metadata": {},
     "output_type": "execute_result"
    }
   ],
   "source": [
    "td = tr.find_element(By.XPATH, '//*[@id=\"siselist_tab_0\"]/tbody/tr[3]/td[3]')\n",
    "td.text"
   ]
  },
  {
   "cell_type": "code",
   "execution_count": 343,
   "id": "eedcb4b2-a429-4102-a2aa-3d5e8787c4d8",
   "metadata": {},
   "outputs": [
    {
     "data": {
      "text/plain": [
       "'중앙에너비스'"
      ]
     },
     "execution_count": 343,
     "metadata": {},
     "output_type": "execute_result"
    }
   ],
   "source": [
    "td = tr.find_element(By.XPATH, '//*[@id=\"siselist_tab_0\"]/tbody/tr[3]/td[4]')\n",
    "td.text"
   ]
  },
  {
   "cell_type": "code",
   "execution_count": 345,
   "id": "8aab1616-897d-4fde-87b7-ddbf43216427",
   "metadata": {},
   "outputs": [
    {
     "data": {
      "text/plain": [
       "'22,800'"
      ]
     },
     "execution_count": 345,
     "metadata": {},
     "output_type": "execute_result"
    }
   ],
   "source": [
    "td = tr.find_element(By.XPATH, '//*[@id=\"siselist_tab_0\"]/tbody/tr[3]/td[11]')\n",
    "td.text"
   ]
  },
  {
   "cell_type": "code",
   "execution_count": 371,
   "id": "bd9fa19d-65fe-4999-8e03-1833c27802c2",
   "metadata": {},
   "outputs": [],
   "source": [
    "driver.get('https://finance.naver.com/sise/')"
   ]
  },
  {
   "cell_type": "code",
   "execution_count": 391,
   "id": "85879fe2-3299-4bfe-9298-418103f8b62d",
   "metadata": {},
   "outputs": [],
   "source": [
    "tbody = driver.find_element(By.XPATH, '//*[@id=\"siselist_tab_0\"]/tbody')"
   ]
  },
  {
   "cell_type": "code",
   "execution_count": 397,
   "id": "949e0338-a32f-4aa1-91d5-2963bb2f9e6b",
   "metadata": {},
   "outputs": [
    {
     "data": {
      "text/plain": [
       "[[1,\n",
       "  '1',\n",
       "  '2',\n",
       "  '중앙에너비스',\n",
       "  '28,000',\n",
       "  '상한\\n6,450',\n",
       "  '+29.93%',\n",
       "  '3,611,024',\n",
       "  '23,900',\n",
       "  '28,000',\n",
       "  '22,800'],\n",
       " [2,\n",
       "  '1',\n",
       "  '1',\n",
       "  '인스코비',\n",
       "  '1,660',\n",
       "  '상한\\n383',\n",
       "  '+29.99%',\n",
       "  '34,080,926',\n",
       "  '1,280',\n",
       "  '1,660',\n",
       "  '1,278'],\n",
       " [3,\n",
       "  '1',\n",
       "  '1',\n",
       "  '팬젠',\n",
       "  '5,410',\n",
       "  '상한\\n1,245',\n",
       "  '+29.89%',\n",
       "  '746,687',\n",
       "  '4,170',\n",
       "  '5,410',\n",
       "  '4,165'],\n",
       " [4, '1', '12', '파워풀엑스', '765', '상한\\n99', '+14.86%', '1', '765', '765', '765'],\n",
       " [5,\n",
       "  '1',\n",
       "  '7',\n",
       "  '타임기술',\n",
       "  '5,290',\n",
       "  '상한\\n690',\n",
       "  '+15.00%',\n",
       "  '1,495',\n",
       "  '4,100',\n",
       "  '5,290',\n",
       "  '4,010'],\n",
       " [9,\n",
       "  '1',\n",
       "  '1',\n",
       "  '코퍼스코리아',\n",
       "  '1,063',\n",
       "  '상한\\n245',\n",
       "  '+29.95%',\n",
       "  '4,757,217',\n",
       "  '812',\n",
       "  '1,063',\n",
       "  '812'],\n",
       " [10,\n",
       "  '1',\n",
       "  '1',\n",
       "  '프리시젼바이오',\n",
       "  '4,495',\n",
       "  '상한\\n1,035',\n",
       "  '+29.91%',\n",
       "  '167,530',\n",
       "  '4,495',\n",
       "  '4,495',\n",
       "  '4,495']]"
      ]
     },
     "execution_count": 397,
     "metadata": {},
     "output_type": "execute_result"
    }
   ],
   "source": [
    "table_data=[]\n",
    "for trid in range(3, 13):\n",
    "    if trid==8 or trid==9 or trid==10:\n",
    "        continue\n",
    "    tr = tbody.find_element(By.XPATH, '//*[@id=\"siselist_tab_0\"]/tbody/tr[{}]'.format(trid))\n",
    "    driver.implicitly_wait(1)\n",
    "    row_data = []\n",
    "    row_data.append(trid-2)\n",
    "    for i in range(2, 12):\n",
    "        td = tr.find_element(By.XPATH, '//*[@id=\"siselist_tab_0\"]/tbody/tr[{}]/td[{}]'.format(trid,i))\n",
    "        driver.implicitly_wait(1)\n",
    "        row_data.append(td.text)\n",
    "    table_data.append(row_data)\n",
    "table_data"
   ]
  },
  {
   "cell_type": "code",
   "execution_count": 399,
   "id": "66e8f206-0e3a-4484-acd2-97ee0e5ba586",
   "metadata": {},
   "outputs": [
    {
     "data": {
      "text/html": [
       "<div>\n",
       "<style scoped>\n",
       "    .dataframe tbody tr th:only-of-type {\n",
       "        vertical-align: middle;\n",
       "    }\n",
       "\n",
       "    .dataframe tbody tr th {\n",
       "        vertical-align: top;\n",
       "    }\n",
       "\n",
       "    .dataframe thead th {\n",
       "        text-align: right;\n",
       "    }\n",
       "</style>\n",
       "<table border=\"1\" class=\"dataframe\">\n",
       "  <thead>\n",
       "    <tr style=\"text-align: right;\">\n",
       "      <th></th>\n",
       "      <th>순위</th>\n",
       "      <th>연속</th>\n",
       "      <th>누적</th>\n",
       "      <th>종목명</th>\n",
       "      <th>현재가</th>\n",
       "      <th>전일비</th>\n",
       "      <th>등락률</th>\n",
       "      <th>거래량</th>\n",
       "      <th>시가</th>\n",
       "      <th>고가</th>\n",
       "      <th>저가</th>\n",
       "    </tr>\n",
       "  </thead>\n",
       "  <tbody>\n",
       "    <tr>\n",
       "      <th>0</th>\n",
       "      <td>1</td>\n",
       "      <td>1</td>\n",
       "      <td>2</td>\n",
       "      <td>중앙에너비스</td>\n",
       "      <td>28,000</td>\n",
       "      <td>상한\\n6,450</td>\n",
       "      <td>+29.93%</td>\n",
       "      <td>3,611,024</td>\n",
       "      <td>23,900</td>\n",
       "      <td>28,000</td>\n",
       "      <td>22,800</td>\n",
       "    </tr>\n",
       "    <tr>\n",
       "      <th>1</th>\n",
       "      <td>2</td>\n",
       "      <td>1</td>\n",
       "      <td>1</td>\n",
       "      <td>인스코비</td>\n",
       "      <td>1,660</td>\n",
       "      <td>상한\\n383</td>\n",
       "      <td>+29.99%</td>\n",
       "      <td>34,080,926</td>\n",
       "      <td>1,280</td>\n",
       "      <td>1,660</td>\n",
       "      <td>1,278</td>\n",
       "    </tr>\n",
       "    <tr>\n",
       "      <th>2</th>\n",
       "      <td>3</td>\n",
       "      <td>1</td>\n",
       "      <td>1</td>\n",
       "      <td>팬젠</td>\n",
       "      <td>5,410</td>\n",
       "      <td>상한\\n1,245</td>\n",
       "      <td>+29.89%</td>\n",
       "      <td>746,687</td>\n",
       "      <td>4,170</td>\n",
       "      <td>5,410</td>\n",
       "      <td>4,165</td>\n",
       "    </tr>\n",
       "    <tr>\n",
       "      <th>3</th>\n",
       "      <td>4</td>\n",
       "      <td>1</td>\n",
       "      <td>12</td>\n",
       "      <td>파워풀엑스</td>\n",
       "      <td>765</td>\n",
       "      <td>상한\\n99</td>\n",
       "      <td>+14.86%</td>\n",
       "      <td>1</td>\n",
       "      <td>765</td>\n",
       "      <td>765</td>\n",
       "      <td>765</td>\n",
       "    </tr>\n",
       "    <tr>\n",
       "      <th>4</th>\n",
       "      <td>5</td>\n",
       "      <td>1</td>\n",
       "      <td>7</td>\n",
       "      <td>타임기술</td>\n",
       "      <td>5,290</td>\n",
       "      <td>상한\\n690</td>\n",
       "      <td>+15.00%</td>\n",
       "      <td>1,495</td>\n",
       "      <td>4,100</td>\n",
       "      <td>5,290</td>\n",
       "      <td>4,010</td>\n",
       "    </tr>\n",
       "    <tr>\n",
       "      <th>5</th>\n",
       "      <td>9</td>\n",
       "      <td>1</td>\n",
       "      <td>1</td>\n",
       "      <td>코퍼스코리아</td>\n",
       "      <td>1,063</td>\n",
       "      <td>상한\\n245</td>\n",
       "      <td>+29.95%</td>\n",
       "      <td>4,757,217</td>\n",
       "      <td>812</td>\n",
       "      <td>1,063</td>\n",
       "      <td>812</td>\n",
       "    </tr>\n",
       "    <tr>\n",
       "      <th>6</th>\n",
       "      <td>10</td>\n",
       "      <td>1</td>\n",
       "      <td>1</td>\n",
       "      <td>프리시젼바이오</td>\n",
       "      <td>4,495</td>\n",
       "      <td>상한\\n1,035</td>\n",
       "      <td>+29.91%</td>\n",
       "      <td>167,530</td>\n",
       "      <td>4,495</td>\n",
       "      <td>4,495</td>\n",
       "      <td>4,495</td>\n",
       "    </tr>\n",
       "  </tbody>\n",
       "</table>\n",
       "</div>"
      ],
      "text/plain": [
       "   순위 연속  누적      종목명     현재가        전일비      등락률         거래량      시가      고가  \\\n",
       "0   1  1   2   중앙에너비스  28,000  상한\\n6,450  +29.93%   3,611,024  23,900  28,000   \n",
       "1   2  1   1     인스코비   1,660    상한\\n383  +29.99%  34,080,926   1,280   1,660   \n",
       "2   3  1   1       팬젠   5,410  상한\\n1,245  +29.89%     746,687   4,170   5,410   \n",
       "3   4  1  12    파워풀엑스     765     상한\\n99  +14.86%           1     765     765   \n",
       "4   5  1   7     타임기술   5,290    상한\\n690  +15.00%       1,495   4,100   5,290   \n",
       "5   9  1   1   코퍼스코리아   1,063    상한\\n245  +29.95%   4,757,217     812   1,063   \n",
       "6  10  1   1  프리시젼바이오   4,495  상한\\n1,035  +29.91%     167,530   4,495   4,495   \n",
       "\n",
       "       저가  \n",
       "0  22,800  \n",
       "1   1,278  \n",
       "2   4,165  \n",
       "3     765  \n",
       "4   4,010  \n",
       "5     812  \n",
       "6   4,495  "
      ]
     },
     "execution_count": 399,
     "metadata": {},
     "output_type": "execute_result"
    }
   ],
   "source": [
    "import pandas as pd\n",
    "columns = ['순위', '연속', '누적', '종목명', '현재가', '전일비', '등락률', '거래량', '시가', '고가','저가']\n",
    "stock_df = pd.DataFrame(table_data, columns=columns)\n",
    "stock_df"
   ]
  },
  {
   "cell_type": "code",
   "execution_count": 401,
   "id": "6e1e06ab-1b48-4aeb-a3c6-64a9ef947d77",
   "metadata": {},
   "outputs": [
    {
     "name": "stdout",
     "output_type": "stream",
     "text": [
      "csv 파일 저장 성공\n"
     ]
    }
   ],
   "source": [
    "stock_df.to_csv('top_stock.csv', index=False)\n",
    "print('csv 파일 저장 성공')"
   ]
  },
  {
   "cell_type": "code",
   "execution_count": null,
   "id": "b89f0ef2-48df-4035-a0b6-2dd4744adb61",
   "metadata": {},
   "outputs": [],
   "source": []
  }
 ],
 "metadata": {
  "kernelspec": {
   "display_name": "Python 3 (ipykernel)",
   "language": "python",
   "name": "python3"
  },
  "language_info": {
   "codemirror_mode": {
    "name": "ipython",
    "version": 3
   },
   "file_extension": ".py",
   "mimetype": "text/x-python",
   "name": "python",
   "nbconvert_exporter": "python",
   "pygments_lexer": "ipython3",
   "version": "3.12.4"
  }
 },
 "nbformat": 4,
 "nbformat_minor": 5
}
